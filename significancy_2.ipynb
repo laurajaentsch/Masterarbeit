{
 "cells": [
  {
   "cell_type": "code",
   "id": "9ee026007b7ed3d6",
   "metadata": {
    "ExecuteTime": {
     "end_time": "2025-05-09T06:38:55.544370Z",
     "start_time": "2025-05-09T06:38:55.344024Z"
    }
   },
   "source": "import pandas as pd",
   "outputs": [],
   "execution_count": 1
  },
  {
   "cell_type": "code",
   "id": "initial_id",
   "metadata": {
    "collapsed": true,
    "jupyter": {
     "outputs_hidden": true
    },
    "ExecuteTime": {
     "end_time": "2025-05-09T06:38:55.625808Z",
     "start_time": "2025-05-09T06:38:55.621838Z"
    }
   },
   "source": [
    "EXERCISE = 2\n",
    "df = pd.read_csv(f'./data/Exercise_{EXERCISE}_valid.csv')\n",
    "df.ID = df.ID.astype(int)\n",
    "df.TrialInfo = df.TrialInfo.astype(int)\n",
    "df.Repetitions = df.Repetitions.astype(float)"
   ],
   "outputs": [],
   "execution_count": 2
  },
  {
   "cell_type": "code",
   "id": "107fcc734f10966e",
   "metadata": {
    "ExecuteTime": {
     "end_time": "2025-05-09T06:38:55.750397Z",
     "start_time": "2025-05-09T06:38:55.743776Z"
    }
   },
   "source": [
    "df_mean = df.groupby([\"ID\", \"TrialInfo\"]).agg(\n",
    "    Mean_Repetitions=(\"Repetitions\", \"mean\"),\n",
    "    Group=(\"Group\", \"first\"),\n",
    "    Gender=(\"Gender\", \"first\")\n",
    ").reset_index()\n",
    "\n",
    "#sort by ID and TrialInfo\n",
    "df_mean = df_mean.sort_values(by=[\"ID\", \"TrialInfo\", \"Gender\"])"
   ],
   "outputs": [],
   "execution_count": 3
  },
  {
   "cell_type": "code",
   "id": "a88184983c5b5d7d",
   "metadata": {
    "ExecuteTime": {
     "end_time": "2025-05-09T06:38:56.280895Z",
     "start_time": "2025-05-09T06:38:56.271673Z"
    }
   },
   "source": [
    "# Only keep TrialInfo 1 and 4\n",
    "df_filtered = df_mean[df_mean['TrialInfo'].isin([1, 4])]\n",
    "\n",
    "# Pivot to wide format: one row = one student\n",
    "df_pivot = df_filtered.pivot_table(index=['ID', 'Group', \"Gender\"],\n",
    "                                   columns='TrialInfo',\n",
    "                                   values='Mean_Repetitions').reset_index()\n",
    "\n",
    "# Rename columns for easier handling\n",
    "df_pivot = df_pivot.rename(columns={1: 'Week1', 4: 'Week4'})\n",
    "\n",
    "print(df_pivot.head())"
   ],
   "outputs": [
    {
     "name": "stdout",
     "output_type": "stream",
     "text": [
      "TrialInfo  ID Group Gender     Week1  Week4\n",
      "0           1    VR      w  1.250000    1.0\n",
      "1           2    VR      w  1.333333    1.6\n",
      "2           4    VR      w  1.400000    1.0\n",
      "3           6    VR      m  1.000000    1.0\n",
      "4           8    VR      m  1.000000    1.4\n"
     ]
    }
   ],
   "execution_count": 4
  },
  {
   "cell_type": "code",
   "id": "7874b92a222bf493",
   "metadata": {
    "ExecuteTime": {
     "end_time": "2025-05-09T06:38:58.234119Z",
     "start_time": "2025-05-09T06:38:57.729932Z"
    }
   },
   "source": [
    "import json\n",
    "from scipy import stats\n",
    "\n",
    "results = {}\n",
    "\n",
    "genders = df_pivot[\"Gender\"].unique()\n",
    "groups = df_pivot[\"Group\"].unique()\n",
    "\n",
    "for group in groups:\n",
    "    group_data = df_pivot[df_pivot['Group'] == group]\n",
    "\n",
    "    week1 = group_data['Week1']\n",
    "    week4 = group_data['Week4']\n",
    "\n",
    "    stat, p_normality = stats.shapiro(week1 - week4)\n",
    "\n",
    "    if p_normality > 0.05:\n",
    "        t_stat, p_value = stats.ttest_rel(week1, week4)\n",
    "        test_used = 'Paired t-test'\n",
    "    else:\n",
    "        w_stat, p_value = stats.wilcoxon(week1, week4)\n",
    "        test_used = 'Wilcoxon signed-rank'\n",
    "\n",
    "    significant = bool(p_value < 0.05)\n",
    "\n",
    "    results[group] = {\n",
    "        'test': test_used,\n",
    "        'p_value': float(p_value),\n",
    "        'significant': significant,\n",
    "        \"p-normality\": float(p_normality),\n",
    "        \"gender\": \"gesamt\",\n",
    "        \"size\": len(week1)\n",
    "    }\n",
    "\n",
    "    for gender in genders:\n",
    "        gender_data = group_data[group_data[\"Gender\"] == gender]\n",
    "        week1 = gender_data['Week1']\n",
    "        week4 = gender_data['Week4']\n",
    "\n",
    "        stat, p_normality = stats.shapiro(week1 - week4)\n",
    "\n",
    "        if p_normality > 0.05:\n",
    "            t_stat, p_value = stats.ttest_rel(week1, week4)\n",
    "            test_used = 'Paired t-test'\n",
    "        else:\n",
    "            w_stat, p_value = stats.wilcoxon(week1, week4)\n",
    "            test_used = 'Wilcoxon signed-rank'\n",
    "\n",
    "        significant = bool(p_value < 0.05)\n",
    "\n",
    "        results[f\"{group}-{gender}\"] = {\n",
    "            'test': test_used,\n",
    "            'p_value': float(p_value),\n",
    "            'significant': significant,\n",
    "            \"p-normality\": float(p_normality),\n",
    "            \"gender\": gender,\n",
    "            \"size\": len(week1)\n",
    "        }\n",
    "\n",
    "# Save results to JSON\n",
    "with open(f'./results/significancy_{EXERCISE}.json', 'w') as f:\n",
    "    json.dump(results, f, indent=4)\n"
   ],
   "outputs": [],
   "execution_count": 5
  },
  {
   "metadata": {},
   "cell_type": "code",
   "outputs": [],
   "execution_count": null,
   "source": "",
   "id": "2947ab6b24913716"
  }
 ],
 "metadata": {
  "kernelspec": {
   "display_name": "Python 3 (ipykernel)",
   "language": "python",
   "name": "python3"
  },
  "language_info": {
   "codemirror_mode": {
    "name": "ipython",
    "version": 3
   },
   "file_extension": ".py",
   "mimetype": "text/x-python",
   "name": "python",
   "nbconvert_exporter": "python",
   "pygments_lexer": "ipython3",
   "version": "3.11.9"
  }
 },
 "nbformat": 4,
 "nbformat_minor": 5
}
