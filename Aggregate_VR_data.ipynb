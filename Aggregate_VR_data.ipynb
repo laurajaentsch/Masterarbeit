{
 "cells": [
  {
   "cell_type": "code",
   "id": "79f67248-bc3c-4e3c-9bbb-aaf05e11925b",
   "metadata": {
    "ExecuteTime": {
     "end_time": "2025-04-24T14:45:38.864963Z",
     "start_time": "2025-04-24T14:45:38.352541Z"
    }
   },
   "source": [
    "import os\n",
    "\n",
    "import pandas as pd\n",
    "\n",
    "# Define the base directory\n",
    "base_dir = \"./Studie\"  # Change this to your actual path\n",
    "\n",
    "# Define the three variants\n",
    "variants = [\"DrehenFangen\", \"EntgegenFangen\", \"Tischtennis\", \"TischtennisSeite\"]\n",
    "\n",
    "# Initialize a dictionary to store dataframes\n",
    "dataframes = {variant: [] for variant in variants}\n",
    "\n",
    "# Loop through all subdirectories and find matching CSV files\n",
    "for root, dirs, files in os.walk(base_dir):\n",
    "    for file in files:\n",
    "        for variant in variants:\n",
    "            if file.startswith(variant) and file.endswith(\".csv\"):\n",
    "                file_path = os.path.join(root, file)\n",
    "                df = pd.read_csv(file_path, sep=\";\")\n",
    "                df[\"Source\"] = file  # Add filename as a column for reference\n",
    "                dataframes[variant].append(df)\n",
    "\n",
    "# Concatenate all dataframes per variant\n",
    "for variant in variants:\n",
    "    if dataframes[variant]:\n",
    "        dataframes[variant] = pd.concat(dataframes[variant], ignore_index=True)\n",
    "\n",
    "# Example: Display the first few rows of one variant\n",
    "print(dataframes[\"Tischtennis\"].head())\n"
   ],
   "outputs": [
    {
     "name": "stdout",
     "output_type": "stream",
     "text": [
      "   ID                  Date   Points              Source\n",
      "0  11   2025-02-19 10:17:31        3  Tischtennis_11.csv\n",
      "1  11   2025-02-19 10:17:40        2  Tischtennis_11.csv\n",
      "2  11   2025-02-19 10:17:43        1  Tischtennis_11.csv\n",
      "3  11   2025-02-19 10:17:48        1  Tischtennis_11.csv\n",
      "4  11   2025-02-19 10:17:53        2  Tischtennis_11.csv\n"
     ]
    }
   ],
   "execution_count": 1
  },
  {
   "metadata": {
    "ExecuteTime": {
     "end_time": "2025-04-24T14:45:40.694859Z",
     "start_time": "2025-04-24T14:45:40.687482Z"
    }
   },
   "cell_type": "code",
   "source": [
    "#strip all columns names\n",
    "dataframes[\"DrehenFangen\"].columns = dataframes[\"DrehenFangen\"].columns.str.strip()\n",
    "dataframes[\"EntgegenFangen\"].columns = dataframes[\"EntgegenFangen\"].columns.str.strip()\n",
    "dataframes[\"Tischtennis\"].columns = dataframes[\"Tischtennis\"].columns.str.strip()\n",
    "dataframes[\"TischtennisSeite\"].columns = dataframes[\"TischtennisSeite\"].columns.str.strip()\n",
    "\n",
    "# filter out rows that have TischtennisSeite in the Source column in Tischtennis variant\n",
    "dataframes[\"Tischtennis\"] = dataframes[\"Tischtennis\"][\n",
    "    ~dataframes[\"Tischtennis\"][\"Source\"].str.contains(\"TischtennisSeite\")]"
   ],
   "id": "979ee81738e171b4",
   "outputs": [],
   "execution_count": 2
  },
  {
   "metadata": {
    "ExecuteTime": {
     "end_time": "2025-04-24T14:45:41.312745Z",
     "start_time": "2025-04-24T14:45:41.300458Z"
    }
   },
   "cell_type": "code",
   "source": [
    "# sort each variant by Date and reset index\n",
    "for variant in variants:\n",
    "    dataframes[variant] = dataframes[variant].sort_values(by=\"Date\")\n",
    "    dataframes[variant] = dataframes[variant].reset_index(drop=True)"
   ],
   "id": "9752983e91d14584",
   "outputs": [],
   "execution_count": 3
  },
  {
   "metadata": {
    "ExecuteTime": {
     "end_time": "2025-04-24T14:45:41.657441Z",
     "start_time": "2025-04-24T14:45:41.636601Z"
    }
   },
   "cell_type": "code",
   "source": [
    "#save each variant as csv\n",
    "for variant in variants:\n",
    "    dataframes[variant].to_csv(f\"{variant}.csv\", index=False)"
   ],
   "id": "9bd616e1a4c5a393",
   "outputs": [],
   "execution_count": 4
  },
  {
   "metadata": {},
   "cell_type": "code",
   "outputs": [],
   "execution_count": null,
   "source": "",
   "id": "e4afd59a115f55ad"
  }
 ],
 "metadata": {
  "kernelspec": {
   "display_name": "Python 3 (ipykernel)",
   "name": "python3",
   "language": "python"
  },
  "language_info": {
   "name": ""
  }
 },
 "nbformat": 4,
 "nbformat_minor": 5
}
