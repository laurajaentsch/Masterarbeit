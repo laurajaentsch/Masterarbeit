{
 "cells": [
  {
   "cell_type": "code",
   "id": "9ee026007b7ed3d6",
   "metadata": {
    "ExecuteTime": {
     "end_time": "2025-05-09T07:14:52.794784Z",
     "start_time": "2025-05-09T07:14:52.644869Z"
    }
   },
   "source": [
    "import pandas as pd\n",
    "\n",
    "pd.set_option('future.no_silent_downcasting', True)"
   ],
   "outputs": [],
   "execution_count": 1
  },
  {
   "cell_type": "code",
   "id": "initial_id",
   "metadata": {
    "collapsed": true,
    "jupyter": {
     "outputs_hidden": true
    },
    "ExecuteTime": {
     "end_time": "2025-05-09T07:14:52.854584Z",
     "start_time": "2025-05-09T07:14:52.851496Z"
    }
   },
   "source": [
    "EXERCISE = 3\n",
    "\n",
    "\n",
    "def load_data(catched: bool):\n",
    "    df = pd.read_csv(f'./data/Exercise_{EXERCISE}_valid_catched_{catched}.csv')\n",
    "    df.ID = df.ID.astype(int)\n",
    "    df.TrialInfo = df.TrialInfo.astype(int)\n",
    "    df.Degree = df.Degree.astype(float)\n",
    "    df.Catch = df.Catch.replace({True: 1, False: 0}).astype(int)\n",
    "    df.Group = df.Group.replace({\"RL 7e\": \"RL\", \"RL 7f\": \"RL\", \"kontrollgruppe\": \"Kontrollgruppe\"})\n",
    "\n",
    "    # Load gender data: ID, gender\n",
    "    df_gender = pd.read_csv(\"data/gender.csv\")\n",
    "    # add gender to the df\n",
    "    df = pd.merge(df, df_gender, on=\"ID\", how=\"left\")\n",
    "\n",
    "    df_mean = df.groupby([\"ID\", \"TrialInfo\"]).agg(\n",
    "        Mean_Degree=(\"Degree\", \"mean\"),\n",
    "        Mean_Catch=(\"Catch\", \"mean\"),\n",
    "        Group=(\"Group\", \"first\"),\n",
    "        Gender=(\"Gender\", \"first\"),\n",
    "    ).reset_index()\n",
    "\n",
    "    #sort by ID and TrialInfo\n",
    "    df_mean = df_mean.sort_values(by=[\"ID\", \"TrialInfo\", \"Gender\"])\n",
    "    # Only keep TrialInfo 1 and 4\n",
    "    df_filtered = df_mean[df_mean['TrialInfo'].isin([1, 4])]\n",
    "    return df_filtered"
   ],
   "outputs": [],
   "execution_count": 2
  },
  {
   "cell_type": "code",
   "id": "7874b92a222bf493",
   "metadata": {
    "ExecuteTime": {
     "end_time": "2025-05-09T07:14:53.148354Z",
     "start_time": "2025-05-09T07:14:52.862770Z"
    }
   },
   "source": [
    "import json\n",
    "from scipy import stats\n",
    "\n",
    "results = {}\n",
    "\n",
    "objectives = [\"Mean_Degree\", \"Mean_Catch\"]\n",
    "for objective in objectives:\n",
    "\n",
    "    if objective == \"Mean_Degree\":\n",
    "        df_filtered = load_data(catched=True)\n",
    "    else:\n",
    "        df_filtered = load_data(catched=False)\n",
    "\n",
    "    # Pivot to wide format: one row = one student\n",
    "    df_pivot = df_filtered.pivot_table(index=['ID', 'Group', \"Gender\"],\n",
    "                                       columns='TrialInfo',\n",
    "                                       values=objective).reset_index()\n",
    "\n",
    "    # Rename columns. for easier handling\n",
    "    df_pivot = df_pivot.rename(columns={1: 'Week1', 4: 'Week4'})\n",
    "\n",
    "    genders = df_pivot[\"Gender\"].unique()\n",
    "    groups = df_pivot[\"Group\"].unique()\n",
    "\n",
    "    for group in groups:\n",
    "        # Subset the group\n",
    "        group_data = df_pivot[df_pivot['Group'] == group]\n",
    "\n",
    "        week1 = group_data['Week1']\n",
    "        week4 = group_data['Week4']\n",
    "\n",
    "        # Check normality of the differences\n",
    "        stat, p_normality = stats.shapiro(week1 - week4)\n",
    "\n",
    "        if p_normality > 0.05:\n",
    "            # Differences are normal --> Paired t-test\n",
    "            t_stat, p_value = stats.ttest_rel(week1, week4)\n",
    "            test_used = 'Paired t-test'\n",
    "        else:\n",
    "            # Differences are not normal --> Wilcoxon signed-rank test\n",
    "            w_stat, p_value = stats.wilcoxon(week1, week4)\n",
    "            test_used = 'Wilcoxon signed-rank'\n",
    "\n",
    "        # Determine if significant\n",
    "        significant = bool(p_value < 0.05)\n",
    "\n",
    "        # Save results\n",
    "        print(group)\n",
    "        results[f\"{group}-{objective}\"] = {\n",
    "            'test': test_used,\n",
    "            'p_value': float(p_value),\n",
    "            'significant': significant,\n",
    "            \"p-normality\": float(p_normality),\n",
    "            \"gender\": \"gesamt\",\n",
    "            \"size\": len(week1),\n",
    "            \"objective\": objective\n",
    "        }\n",
    "\n",
    "        for gender in genders:\n",
    "            gender_data = group_data[group_data[\"Gender\"] == gender]\n",
    "            week1 = gender_data['Week1']\n",
    "            week4 = gender_data['Week4']\n",
    "\n",
    "            print(f\"{group}-{gender}-{len(week1)}\")\n",
    "\n",
    "            stat, p_normality = stats.shapiro(week1 - week4)\n",
    "\n",
    "            if p_normality > 0.05:\n",
    "                t_stat, p_value = stats.ttest_rel(week1, week4)\n",
    "                test_used = 'Paired t-test'\n",
    "            else:\n",
    "                w_stat, p_value = stats.wilcoxon(week1, week4)\n",
    "                test_used = 'Wilcoxon signed-rank'\n",
    "\n",
    "            significant = bool(p_value < 0.05)\n",
    "\n",
    "            results[f\"{group}-{gender}-{objective}\"] = {\n",
    "                'test': test_used,\n",
    "                'p_value': float(p_value),\n",
    "                'significant': significant,\n",
    "                \"p-normality\": float(p_normality),\n",
    "                \"gender\": gender,\n",
    "                \"size\": len(week1),\n",
    "                \"objective\": objective\n",
    "            }\n",
    "\n",
    "# Save results to JSON\n",
    "with open(f'./results/significancy_{EXERCISE}.json', 'w') as f:\n",
    "    json.dump(results, f, indent=4)\n"
   ],
   "outputs": [
    {
     "name": "stdout",
     "output_type": "stream",
     "text": [
      "VR\n",
      "VR-w-10\n",
      "VR-m-16\n",
      "RL\n",
      "RL-w-21\n",
      "RL-m-25\n",
      "Kontrollgruppe\n",
      "Kontrollgruppe-w-2\n",
      "Kontrollgruppe-m-6\n",
      "VR\n",
      "VR-w-14\n",
      "VR-m-16\n",
      "RL\n",
      "RL-w-22\n",
      "RL-m-25\n",
      "Kontrollgruppe\n",
      "Kontrollgruppe-w-4\n",
      "Kontrollgruppe-m-7\n"
     ]
    },
    {
     "name": "stderr",
     "output_type": "stream",
     "text": [
      "/var/folders/50/_sqg2_l97_541t3dyx02t65w0000gn/T/ipykernel_65993/1888034811.py:66: SmallSampleWarning: One or more sample arguments is too small; all returned values will be NaN. See documentation for sample size requirements.\n",
      "  stat, p_normality = stats.shapiro(week1 - week4)\n"
     ]
    }
   ],
   "execution_count": 3
  },
  {
   "metadata": {
    "ExecuteTime": {
     "end_time": "2025-05-09T07:14:53.151969Z",
     "start_time": "2025-05-09T07:14:53.150829Z"
    }
   },
   "cell_type": "code",
   "source": "",
   "id": "e122d1da7a80dade",
   "outputs": [],
   "execution_count": null
  }
 ],
 "metadata": {
  "kernelspec": {
   "display_name": "Python 3 (ipykernel)",
   "language": "python",
   "name": "python3"
  },
  "language_info": {
   "codemirror_mode": {
    "name": "ipython",
    "version": 3
   },
   "file_extension": ".py",
   "mimetype": "text/x-python",
   "name": "python",
   "nbconvert_exporter": "python",
   "pygments_lexer": "ipython3",
   "version": "3.11.9"
  }
 },
 "nbformat": 4,
 "nbformat_minor": 5
}
